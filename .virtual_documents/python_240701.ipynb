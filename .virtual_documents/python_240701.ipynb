import pandas as pd 
import seaborn as sns 

print(pd.__version__)
print(sns.__version__)


iris = sns.load_dataset("iris")
iris.head(3)


iris.tail(3)


iris.shape


iris.info()


iris.describe()


iris['species'].value_counts()


type(iris['species'].value_counts())





iris['species'].value_counts().index


iris['species'].value_counts().array


iris['species'].value_counts().array


iris['species'].value_counts().memory_usage()


df = iris.drop("species", axis=1)
df.head(1)


iris.shape, df.shape


df2 = iris.drop(['sepal_length', 'sepal_width'], axis=1)
df2.head(1)


iris.shape, df.shape, df2.shape


iris.head()


df3 = iris.drop([0, 1, 2], axis=0)
df3.head(1)


df3 = iris.drop([0, 1, 2], axis=0).reset_index(drop=True)
df3.head(1)


iris.shape, df.shape, df2.shape, df3.shape








iris.to_csv("iris.csv")


iris.to_csv("iris2.csv", index=False)


iris.to_csv("./test_data/iris.csv", index=False)





iris_df = pd.read_csv("./test_data/iris.csv")
iris_df.head(1)


DATA_PATH = './kaggle/playground-series-s4e7/train.csv'

train = pd.read_csv(DATA_PATH)
train.head(1)


DATA_PATH = './kaggle/playground-series-s4e7/'

train = pd.read_csv(DATA_PATH + 'train.csv')
train.head(1)


test = pd.read_csv(DATA_PATH + 'test.csv')
test.head(1)


submission = pd.read_csv(DATA_PATH + 'sample_submission.csv')
submission.head(1)





# iris.loc[행, 열]
iris.loc[:, ['sepal_length', 'species']].head(1)


cols = ['sepal_length', 'species']
iris.loc[:, cols].head(1)


iris.head(1)


cols = ['sepal_length', 'petal_length', 'species']
iris.loc[iris['petal_length'] >= 1.55, cols].head(1)





cols = ['sepal_width', 'petal_length']
result = iris.loc[iris['petal_length'] >= 1.7, cols].reset_index(drop=True)
result





cols = ['sepal_width', 'petal_length']
result = iris.loc[(조건1) & (조건2), cols].reset_index(drop=True)
result


result1 = iris.loc[iris['species'] == 'setosa']
result2 = result1.loc[iris['sepal_length'] <= 5.1]
result2.shape


cols = ['sepal_width', 'petal_length']
result = iris.loc[(iris['species'] == 'setosa') & (iris['sepal_length'] <= 5.1), cols].reset_index(drop=True)
result.shape


cols = ['sepal_width', 'petal_length']
result = iris.loc[(iris['species'] == 'setosa') &
                  (iris['sepal_length'] <= 5.1), cols].reset_index(drop=True)
result.shape


train.head()





# train.loc[행, 열]
train.loc[:, :].head(1)


test = (6228134, 12)
test[0]


# 데이터프레임 => tuple => int
train.loc[train['Gender'] == 'Male', :].shape[0]





train['Vehicle_Age'].value_counts() 


s = pd.Series(['llama', 'cow', 'llama', 'beetle', 'llama',
               'hippo'], name='animal')
s.value_counts()


s.isin(['cow', 'llama'])


Vehicle_Age_Values = ['1-2 Year', '< 1 Year']
train.loc[train['Vehicle_Age'].isin(Vehicle_Age_Values), :].shape
