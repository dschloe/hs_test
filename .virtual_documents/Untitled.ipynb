import pandas as pd 
import seaborn as sns 

print(pd.__version__)
print(sns.__version__)


iris = sns.load_dataset("iris")
iris.head(3)


iris.tail(3)


iris.shape


iris.info()


iris.describe()


iris['species'].value_counts()


type(iris['species'].value_counts())





iris['species'].value_counts().index


iris['species'].value_counts().array


iris['species'].value_counts().array


iris['species'].value_counts().memory_usage()


df = iris.drop("species", axis=1)
df.head(1)


iris.shape, df.shape


df2 = iris.drop(['sepal_length', 'sepal_width'], axis=1)
df2.head(1)


iris.shape, df.shape, df2.shape


iris.head()


df3 = iris.drop([0, 1, 2], axis=0)
df3.head(1)


df3 = iris.drop([0, 1, 2], axis=0).reset_index(drop=True)
df3.head(1)


iris.shape, df.shape, df2.shape, df3.shape





iris.to_csv("iris.csv")


iris.to_csv("iris2.csv", index=False)


iris.to_csv("./test_data/iris.csv", index=False)



